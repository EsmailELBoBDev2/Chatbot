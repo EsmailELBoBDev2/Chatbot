{
  "nbformat": 4,
  "nbformat_minor": 0,
  "metadata": {
    "colab": {
      "name": "Untitled0.ipynb",
      "provenance": [],
      "collapsed_sections": []
    },
    "kernelspec": {
      "name": "python3",
      "display_name": "Python 3"
    }
  },
  "cells": [
    {
      "cell_type": "markdown",
      "metadata": {
        "id": "EEGuXfZLKUBd"
      },
      "source": [
        "# This is demo smart bot \n",
        "https://www.youtube.com/watch?v=9KZwRBg4-P0"
      ]
    },
    {
      "cell_type": "code",
      "metadata": {
        "id": "uSduhPwBKR79",
        "outputId": "2e94a81b-ffcd-413b-a590-b6a701aafaf6",
        "colab": {
          "base_uri": "https://localhost:8080/",
          "height": 50
        }
      },
      "source": [
        "pip install nltk"
      ],
      "execution_count": 1,
      "outputs": [
        {
          "output_type": "stream",
          "text": [
            "Requirement already satisfied: nltk in /usr/local/lib/python3.6/dist-packages (3.2.5)\n",
            "Requirement already satisfied: six in /usr/local/lib/python3.6/dist-packages (from nltk) (1.15.0)\n"
          ],
          "name": "stdout"
        }
      ]
    },
    {
      "cell_type": "code",
      "metadata": {
        "id": "raLMoj-1Kbmv",
        "outputId": "33232a43-2577-47ce-ec8d-4ef04460d319",
        "colab": {
          "base_uri": "https://localhost:8080/",
          "height": 395
        }
      },
      "source": [
        "pip install newspaper3k"
      ],
      "execution_count": 2,
      "outputs": [
        {
          "output_type": "stream",
          "text": [
            "Requirement already satisfied: newspaper3k in /usr/local/lib/python3.6/dist-packages (0.2.8)\n",
            "Requirement already satisfied: beautifulsoup4>=4.4.1 in /usr/local/lib/python3.6/dist-packages (from newspaper3k) (4.6.3)\n",
            "Requirement already satisfied: Pillow>=3.3.0 in /usr/local/lib/python3.6/dist-packages (from newspaper3k) (7.0.0)\n",
            "Requirement already satisfied: feedparser>=5.2.1 in /usr/local/lib/python3.6/dist-packages (from newspaper3k) (6.0.2)\n",
            "Requirement already satisfied: python-dateutil>=2.5.3 in /usr/local/lib/python3.6/dist-packages (from newspaper3k) (2.8.1)\n",
            "Requirement already satisfied: PyYAML>=3.11 in /usr/local/lib/python3.6/dist-packages (from newspaper3k) (3.13)\n",
            "Requirement already satisfied: lxml>=3.6.0 in /usr/local/lib/python3.6/dist-packages (from newspaper3k) (4.2.6)\n",
            "Requirement already satisfied: cssselect>=0.9.2 in /usr/local/lib/python3.6/dist-packages (from newspaper3k) (1.1.0)\n",
            "Requirement already satisfied: nltk>=3.2.1 in /usr/local/lib/python3.6/dist-packages (from newspaper3k) (3.2.5)\n",
            "Requirement already satisfied: requests>=2.10.0 in /usr/local/lib/python3.6/dist-packages (from newspaper3k) (2.23.0)\n",
            "Requirement already satisfied: feedfinder2>=0.0.4 in /usr/local/lib/python3.6/dist-packages (from newspaper3k) (0.0.4)\n",
            "Requirement already satisfied: tinysegmenter==0.3 in /usr/local/lib/python3.6/dist-packages (from newspaper3k) (0.3)\n",
            "Requirement already satisfied: jieba3k>=0.35.1 in /usr/local/lib/python3.6/dist-packages (from newspaper3k) (0.35.1)\n",
            "Requirement already satisfied: tldextract>=2.0.1 in /usr/local/lib/python3.6/dist-packages (from newspaper3k) (3.0.2)\n",
            "Requirement already satisfied: sgmllib3k in /usr/local/lib/python3.6/dist-packages (from feedparser>=5.2.1->newspaper3k) (1.0.0)\n",
            "Requirement already satisfied: six>=1.5 in /usr/local/lib/python3.6/dist-packages (from python-dateutil>=2.5.3->newspaper3k) (1.15.0)\n",
            "Requirement already satisfied: chardet<4,>=3.0.2 in /usr/local/lib/python3.6/dist-packages (from requests>=2.10.0->newspaper3k) (3.0.4)\n",
            "Requirement already satisfied: idna<3,>=2.5 in /usr/local/lib/python3.6/dist-packages (from requests>=2.10.0->newspaper3k) (2.10)\n",
            "Requirement already satisfied: urllib3!=1.25.0,!=1.25.1,<1.26,>=1.21.1 in /usr/local/lib/python3.6/dist-packages (from requests>=2.10.0->newspaper3k) (1.24.3)\n",
            "Requirement already satisfied: certifi>=2017.4.17 in /usr/local/lib/python3.6/dist-packages (from requests>=2.10.0->newspaper3k) (2020.6.20)\n",
            "Requirement already satisfied: filelock>=3.0.8 in /usr/local/lib/python3.6/dist-packages (from tldextract>=2.0.1->newspaper3k) (3.0.12)\n",
            "Requirement already satisfied: requests-file>=1.4 in /usr/local/lib/python3.6/dist-packages (from tldextract>=2.0.1->newspaper3k) (1.5.1)\n"
          ],
          "name": "stdout"
        }
      ]
    },
    {
      "cell_type": "code",
      "metadata": {
        "id": "63uLwVSFKgC3"
      },
      "source": [
        "#Import libs\n",
        "from newspaper import Article\n",
        "import random\n",
        "import string\n",
        "import nltk\n",
        "from sklearn.feature_extraction.text import CountVectorizer\n",
        "from sklearn.metrics.pairwise import cosine_similarity\n",
        "import numpy as np\n",
        "import warnings\n",
        "\n",
        "warnings.filterwarnings(\"ignore\") "
      ],
      "execution_count": 67,
      "outputs": []
    },
    {
      "cell_type": "code",
      "metadata": {
        "id": "LCMZB520LLsE",
        "outputId": "5b866ed5-6792-4f1c-9447-99f7e789c188",
        "colab": {
          "base_uri": "https://localhost:8080/",
          "height": 33
        }
      },
      "source": [
        "#Download punkt Pack\n",
        "\n",
        "nltk.download(\"punkt\", quiet=True)"
      ],
      "execution_count": 68,
      "outputs": [
        {
          "output_type": "execute_result",
          "data": {
            "text/plain": [
              "True"
            ]
          },
          "metadata": {
            "tags": []
          },
          "execution_count": 68
        }
      ]
    },
    {
      "cell_type": "code",
      "metadata": {
        "id": "-WO5N7g7LXwG"
      },
      "source": [
        "#Get sources\n",
        "art = Article('https://esmailelbobdev2.github.io/my-personal-website/')\n",
        "art.download()\n",
        "art.parse()\n",
        "art.nlp()\n",
        "corpus = art.text"
      ],
      "execution_count": 99,
      "outputs": []
    },
    {
      "cell_type": "code",
      "metadata": {
        "id": "zTFktemDLz6V",
        "outputId": "a0227e94-3b87-4bd4-f851-ce60ee6d053b",
        "colab": {
          "base_uri": "https://localhost:8080/",
          "height": 33
        }
      },
      "source": [
        "#Test\n",
        "print(corpus)"
      ],
      "execution_count": 100,
      "outputs": [
        {
          "output_type": "stream",
          "text": [
            "\n"
          ],
          "name": "stdout"
        }
      ]
    },
    {
      "cell_type": "code",
      "metadata": {
        "id": "e4X2Sb9vMXxq"
      },
      "source": [
        "#Tokenziation\n",
        "text = corpus\n",
        "sentence_text = nltk.sent_tokenize(text) # a list of sentences"
      ],
      "execution_count": 101,
      "outputs": []
    },
    {
      "cell_type": "code",
      "metadata": {
        "id": "fWteOWBbOvdI",
        "outputId": "a8850583-6782-4f36-ebd9-40f2ee645815",
        "colab": {
          "base_uri": "https://localhost:8080/",
          "height": 33
        }
      },
      "source": [
        "# test\n",
        "print (sentence_text)"
      ],
      "execution_count": 102,
      "outputs": [
        {
          "output_type": "stream",
          "text": [
            "[]\n"
          ],
          "name": "stdout"
        }
      ]
    },
    {
      "cell_type": "code",
      "metadata": {
        "id": "uqUGPb8sO5vy"
      },
      "source": [
        "#A function to return a random hi reply to user\n",
        "def hi_reply(user):\n",
        "  text = user.lower()\n",
        "\n",
        "  #bot's reply\n",
        "  hi_botreply = [\"Hey\", \"Hi\", \"Sub mate\", \"Fuck off, i'm lazy jerking off\", \"Hello\", \"Do something more useful than chatting with a bot\"]\n",
        "  #User's reply\n",
        "  hi_userreply = [\"Hi\", \"hey\", \"Hello\", \"hola\"]\n",
        "\n",
        "\n",
        "  for word in text.split():\n",
        "    if word in hi_userreply:\n",
        "      return random.choice(hi_botreply)"
      ],
      "execution_count": 36,
      "outputs": []
    },
    {
      "cell_type": "code",
      "metadata": {
        "id": "3XA26H_qREDH"
      },
      "source": [
        "#Sort to get highest index\n",
        "\n",
        "def index_sort(n):\n",
        "  length = len(n)\n",
        "  list_index = list(range(0, length))\n",
        "\n",
        "  x = n\n",
        "\n",
        "  for i in range(length):\n",
        "    for j in range(length):\n",
        "      if x[list_index[i]] > x[list_index[j]]:\n",
        "        #Swap\n",
        "        temp = list_index[i]\n",
        "        list_index[i] = list_index[j]\n",
        "        list_index [j] = temp\n",
        "\n",
        "  return list_index"
      ],
      "execution_count": 44,
      "outputs": []
    },
    {
      "cell_type": "code",
      "metadata": {
        "id": "ivm6ciLxQAXP"
      },
      "source": [
        "#Create the bots reply\n",
        "def bot_reply(usr_inpt):\n",
        "  usr_inpt = usr_inpt.lower()\n",
        "  sentence_text.append(usr_inpt)\n",
        "  bot_reply = ''\n",
        "  cm = CountVectorizer().fit_transform(sentence_text)\n",
        "  sm = cosine_similarity(cm[-1], cm)\n",
        "  sml = sm.flatten()\n",
        "  index = index_sort(sml)\n",
        "  index = index[1:]\n",
        "  res_flag = 0\n",
        "\n",
        "  j = 0\n",
        "\n",
        "  for i in range(len(index)):\n",
        "    if sml[index[i]] > 0.0:\n",
        "      bot_reply = bot_reply + \" \" + sentence_text[index[i]]\n",
        "      res_flag = 1\n",
        "      j += 1\n",
        "    if j > 2:\n",
        "      break\n",
        "\n",
        "  if res_flag == 0:\n",
        "    bot_reply = bot_reply + \" \" + \"I'm Sorry, I did not find what you are looking for!\"\n",
        "\n",
        "  sentence_text.remove(usr_inpt)\n",
        "\n",
        "  return bot_reply"
      ],
      "execution_count": 58,
      "outputs": []
    },
    {
      "cell_type": "code",
      "metadata": {
        "id": "GsLULlHvSFyP"
      },
      "source": [
        "#Start chatting\n",
        "\n",
        "name = \"Test bot: \"\n",
        "\n",
        "print(f\"{name} I am a test bot that i hope someday be bigger bot like siri or cortana\\nIf you want to leave, type 'exit'\")\n",
        "exit_list = [\"exit\"]\n",
        "\n",
        "while (True):\n",
        "  usr_inpt = input()\n",
        "\n",
        "  if usr_inpt.lower() in exit_list:\n",
        "    print(f\"{name} Chat with you later!\")\n",
        "    break\n",
        "  else:\n",
        "    if hi_reply(usr_inpt) != None:\n",
        "      print(f\"{name} \" + hi_reply(usr_inpt))\n",
        "    else:\n",
        "      print(f\"{name}\" + bot_reply(usr_inpt))"
      ],
      "execution_count": null,
      "outputs": []
    },
    {
      "cell_type": "code",
      "metadata": {
        "id": "l-DXodhjUhFi"
      },
      "source": [
        "#Thanks for https://www.youtube.com/watch?v=9KZwRBg4-P0"
      ],
      "execution_count": 65,
      "outputs": []
    }
  ]
}